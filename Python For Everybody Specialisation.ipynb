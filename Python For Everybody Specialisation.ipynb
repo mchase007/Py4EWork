{
 "cells": [
  {
   "attachments": {},
   "cell_type": "markdown",
   "id": "23d00c20",
   "metadata": {},
   "source": [
    "### Python For Everyone - Exploring Data In Python 3.\n",
    "### By Prof. Charles R. Severance"
   ]
  },
  {
   "attachments": {},
   "cell_type": "markdown",
   "id": "0a3fd9fd",
   "metadata": {},
   "source": [
    "1. Introduction\n",
    "\n",
    "Write a program that uses a print function to say 'hello world'."
   ]
  },
  {
   "cell_type": "code",
   "execution_count": 47,
   "id": "d7bea029",
   "metadata": {},
   "outputs": [
    {
     "name": "stdout",
     "output_type": "stream",
     "text": [
      "hello world\n"
     ]
    }
   ],
   "source": [
    "print(\"hello world\")"
   ]
  },
  {
   "attachments": {},
   "cell_type": "markdown",
   "id": "03d85c3c",
   "metadata": {},
   "source": [
    "2.2 Variables, expressions and statements\n",
    "\n",
    "+ Write a program that uses input to prompt a user for their name and then welcomes them."
   ]
  },
  {
   "cell_type": "code",
   "execution_count": 49,
   "id": "b46722c7",
   "metadata": {},
   "outputs": [
    {
     "name": "stdout",
     "output_type": "stream",
     "text": [
      "Enter your name: Python\n",
      "Hello Python\n"
     ]
    }
   ],
   "source": [
    "name = input(\"Enter your name: \")\n",
    "print(\"Hello \"+ name)"
   ]
  },
  {
   "attachments": {},
   "cell_type": "markdown",
   "id": "6f046713",
   "metadata": {},
   "source": [
    "2.3 Variables, expressions and statements\n",
    "\n",
    "+ Write a program to prompt the user for hours and rate per hour using input to compute gross pay.\n",
    "\n",
    "+ Use 35 hours and a rate of 2.75 per hour to test the program (the pay should be 96.25).\n",
    "\n",
    "+ You should use input to read a string and float() to convert the string to a number. \n",
    "\n",
    "+ Do not worry about error checking or bad user data."
   ]
  },
  {
   "cell_type": "code",
   "execution_count": 15,
   "id": "c21262c2",
   "metadata": {},
   "outputs": [
    {
     "name": "stdout",
     "output_type": "stream",
     "text": [
      "Enter Hours:35\n",
      "Enter Rate:2.75\n",
      "Pay: 96.25\n"
     ]
    }
   ],
   "source": [
    "hrs = input(\"Enter Hours:\")\n",
    "rate = input(\"Enter Rate:\")\n",
    "print(\"Pay:\",float(hrs) * float(rate))"
   ]
  },
  {
   "attachments": {},
   "cell_type": "markdown",
   "id": "066c540d",
   "metadata": {},
   "source": [
    "3.1 Conditional Execution\n",
    "\n",
    "+ Write a program to prompt the user for hours and rate per hour using input to compute gross pay.\n",
    "\n",
    "+ Pay the hourly rate for the hours up to 40 and 1.5 times the hourly rate for all hours worked above 40 hours.\n",
    "\n",
    "+ Use 45 hours and a rate of 10.50 per hour to test the program (the pay should be 498.75).\n",
    "\n",
    "+ You should use input to read a string and float() to convert the string to a number.\n",
    "\n",
    "+ Do not worry about error checking the user input - assume the user types numbers properly."
   ]
  },
  {
   "cell_type": "code",
   "execution_count": 14,
   "id": "4be68085",
   "metadata": {},
   "outputs": [
    {
     "name": "stdout",
     "output_type": "stream",
     "text": [
      "Enter Hours:45\n",
      "Enter Rate:10.50\n",
      "498.75\n"
     ]
    }
   ],
   "source": [
    "hrs = input(\"Enter Hours:\")\n",
    "rate = input(\"Enter Rate:\")\n",
    "\n",
    "h = float(hrs)\n",
    "r = float(rate)\n",
    "pay = 0\n",
    "\n",
    "if h < 40:\n",
    "    pay = h * r\n",
    "    print(pay)\n",
    "else:\n",
    "    lvlTwoHrs = h - 40.0\n",
    "    lvlTwoRate = r * 1.5\n",
    "    lvlOnePay = 40.0 * r\n",
    "    lvlTwoPay = lvlTwoHrs * lvlTwoRate\n",
    "    pay = lvlOnePay + lvlTwoPay\n",
    "    print(pay)"
   ]
  },
  {
   "attachments": {},
   "cell_type": "markdown",
   "id": "5e92ecce",
   "metadata": {},
   "source": [
    "3.2 Conditional Execution\n",
    "+ Write a program to prompt for a score between 0.0 and 1.0. \n",
    "+ If the score is out of range, print an error. \n",
    "+ If the score is between 0.0 and 1.0, print a grade using the following table:\n",
    "+ Score Grade\n",
    "\n",
    "```\n",
    ">= 0.9 A\n",
    ">= 0.8 B\n",
    ">= 0.7 C\n",
    ">= 0.6 D\n",
    "< 0.6 F\n",
    "```\n",
    "+ If the user enters a value out of range, print a suitable error message and exit. For the test, enter a score of 0.85."
   ]
  },
  {
   "cell_type": "code",
   "execution_count": 50,
   "id": "3c8a2ef2",
   "metadata": {},
   "outputs": [
    {
     "name": "stdout",
     "output_type": "stream",
     "text": [
      "Enter Score: 0.85\n",
      "B\n"
     ]
    }
   ],
   "source": [
    "score = input(\"Enter Score: \")\n",
    "\n",
    "rscore = float(score)\n",
    "\n",
    "if rscore < 0.0 or rscore > 1.0:\n",
    "    print('Out of range')\n",
    "elif rscore >= 0.9:\n",
    "    print('A')\n",
    "elif rscore >= 0.8:\n",
    "    print('B')\n",
    "elif rscore >= 0.7:\n",
    "    print('C')\n",
    "elif rscore >= 0.6:\n",
    "    print('D')\n",
    "elif rscore > 0.0 and rscore < 0.6:\n",
    "    print('F')"
   ]
  },
  {
   "attachments": {},
   "cell_type": "markdown",
   "id": "a056ab6c",
   "metadata": {},
   "source": [
    "4.6 Functions\n",
    "\n",
    "+ Write a program to prompt the user for hours and rate per hour using input to compute gross pay.\n",
    "+ Pay should be the normal rate for hours up to 40 and time-and-a-half for the hourly rate for all hours worked above 40 hours. \n",
    "+ Put the logic to do the computation of pay in a function called computepay() and use the function to do the computation. \n",
    "\n",
    "+ The function should return a value. \n",
    "\n",
    "+ Use 45 hours and a rate of 10.50 per hour to test the program (the pay should be 498.75). \n",
    "+ You should use input to read a string and float() to convert the string to a number. \n",
    "+ Do not worry about error checking the user input unless you want to - you can assume the user types numbers properly. \n",
    "+ Do not name your variable sum or use the sum() function."
   ]
  },
  {
   "cell_type": "code",
   "execution_count": 51,
   "id": "da0b1e77",
   "metadata": {},
   "outputs": [
    {
     "name": "stdout",
     "output_type": "stream",
     "text": [
      "Enter Hours:45\n",
      "Enter Rate:10.50\n",
      "Pay 498.75\n"
     ]
    }
   ],
   "source": [
    "def computepay(hrs, rate):\n",
    "    h = float(hrs)\n",
    "    r = float(rate) \n",
    "    pay = 0\n",
    "\n",
    "    if h <= 40.0:\n",
    "        pay = h * r\n",
    "    elif h > 40.0:\n",
    "        pay1 = 40.0 * r\n",
    "        pay2 = float(h - 40.0) * float(r * 1.5)\n",
    "        pay = pay1 + pay2\n",
    "\n",
    "    return pay\n",
    "\n",
    "hrs = input(\"Enter Hours:\")\n",
    "rate = input(\"Enter Rate:\")\n",
    "\n",
    "p = computepay(hrs, rate)\n",
    "print(\"Pay\", p)"
   ]
  },
  {
   "attachments": {},
   "cell_type": "markdown",
   "id": "219b2745",
   "metadata": {},
   "source": [
    "5.2 Loops and Iterations\n",
    "\n",
    "+ Write a program that repeatedly prompts a user for integer numbers until the user enters 'done'. \n",
    "+ Once 'done' is entered, print out the largest and smallest of the numbers. \n",
    "+ If the user enters anything other than a valid number catch it with a try/except and put out an appropriate message and ignore the number. \n",
    "+ Enter 7, 2, bob, 10, and 4 and match the output below.\n",
    "\n",
    "```\n",
    "Output:\n",
    "\n",
    "1. Invalid input\n",
    "2. Maximum is 10\n",
    "3. Minimum is 2\n",
    "\n",
    "```"
   ]
  },
  {
   "cell_type": "code",
   "execution_count": 52,
   "id": "dfe992a8",
   "metadata": {},
   "outputs": [
    {
     "name": "stdout",
     "output_type": "stream",
     "text": [
      "Enter a number: 7\n",
      "Enter a number: 2\n",
      "Enter a number: bob\n",
      "Invalid input\n",
      "Enter a number: 10\n",
      "Enter a number: 4\n",
      "Enter a number: done\n",
      "Maximum is 10\n",
      "Minimum is 2\n"
     ]
    }
   ],
   "source": [
    "largest = None\n",
    "smallest = None\n",
    "\n",
    "userList = []\n",
    "\n",
    "while True:\n",
    "    num = input(\"Enter a number: \")\n",
    "    \n",
    "    if num == \"done\":\n",
    "        largest = max(userList)\n",
    "        smallest = min(userList)\n",
    "        print('Maximum is', largest)\n",
    "        print('Minimum is', smallest)\n",
    "        break\n",
    "    try:\n",
    "        intNum = int(num)\n",
    "    except:\n",
    "        print('Invalid input')\n",
    "        \n",
    "    userList.append(intNum)"
   ]
  },
  {
   "attachments": {},
   "cell_type": "markdown",
   "id": "2c310978",
   "metadata": {},
   "source": [
    "6.5 Strings\n",
    "\n",
    "+ Write code using find() and string slicing (see section 6.10) to extract the number at the end of the line below. \n",
    "+ Convert the extracted value to a floating point number and print it out."
   ]
  },
  {
   "cell_type": "code",
   "execution_count": 53,
   "id": "2466a460",
   "metadata": {},
   "outputs": [
    {
     "name": "stdout",
     "output_type": "stream",
     "text": [
      "0.8475\n"
     ]
    }
   ],
   "source": [
    "text = \"X-DSPAM-Confidence:    0.8475\"\n",
    "\n",
    "seek = text.find('0')\n",
    "numVal = float(text[seek:])\n",
    "print(numVal)"
   ]
  },
  {
   "attachments": {},
   "cell_type": "markdown",
   "id": "5b32a52d",
   "metadata": {},
   "source": [
    "7.2 Files\n",
    "\n",
    "+ Write a program that prompts for a file name, then opens that file and reads through the file, looking for lines of the form:\n",
    "X-DSPAM-Confidence:    0.8475\n",
    "+ Count these lines and extract the floating point values from each of the lines and compute the average of those values and produce an output as shown below. \n",
    "\n",
    "```\n",
    "Output:\n",
    "\n",
    "Average spam confidence: 0.7507185185185187\n",
    "```\n",
    "\n",
    "+ Do not use the sum() function or a variable named sum in your solution.\n",
    "+ You can download the sample data at http://www.py4e.com/code3/mbox-short.txt when you are testing below enter mbox-short.txt as the file name."
   ]
  },
  {
   "cell_type": "code",
   "execution_count": 56,
   "id": "bf82e34f",
   "metadata": {},
   "outputs": [
    {
     "name": "stdout",
     "output_type": "stream",
     "text": [
      "Enter file name: \n",
      "Average spam confidence: 0.7507185185185187\n"
     ]
    }
   ],
   "source": [
    "numList = []\n",
    "total = 0.0\n",
    "\n",
    "fname = input(\"Enter file name: \")\n",
    "\n",
    "if len(fname) < 1:\n",
    "    fname = \"../data/mbox-short.txt\"\n",
    "\n",
    "fh = open(fname)\n",
    "\n",
    "for line in fh:\n",
    "    if not line.startswith(\"X-DSPAM-Confidence:\"):\n",
    "        continue\n",
    "    seek = line.find('0')\n",
    "    lineNum = line[seek:]\n",
    "    lineNum = float(lineNum)\n",
    "    numList.append(lineNum)\n",
    "\n",
    "for num in numList:\n",
    "    total = num + total\n",
    "\n",
    "count = float(len(numList))\n",
    "    \n",
    "average = total / count\n",
    "print(\"Average spam confidence:\",average)"
   ]
  },
  {
   "attachments": {},
   "cell_type": "markdown",
   "id": "0a6240bf",
   "metadata": {},
   "source": [
    "8.4 Lists\n",
    "\n",
    "+ Open the file romeo.txt and read it line by line. \n",
    "+ For each line, split the line into a list of words using the split() method. \n",
    "+ The program should build a list of words. For each word on each line check to see if the word is already in the list and if not append it to the list. \n",
    "+ When the program completes, sort and print the resulting words in python sort() order as shown in the desired output.\n",
    "+ You can download the sample data at http://www.py4e.com/code3/romeo.txt"
   ]
  },
  {
   "cell_type": "code",
   "execution_count": 58,
   "id": "7543f67c",
   "metadata": {},
   "outputs": [
    {
     "name": "stdout",
     "output_type": "stream",
     "text": [
      "Enter file name: \n",
      "['Arise', 'But', 'It', 'Juliet', 'Who', 'already', 'and', 'breaks', 'east', 'envious', 'fair', 'grief', 'is', 'kill', 'light', 'moon', 'pale', 'sick', 'soft', 'sun', 'the', 'through', 'what', 'window', 'with', 'yonder']\n"
     ]
    }
   ],
   "source": [
    "wlist = []\n",
    "\n",
    "fname = input(\"Enter file name: \")\n",
    "\n",
    "if len(fname) < 1:\n",
    "    fname = \"../data/romeo.txt\"\n",
    "    \n",
    "flines = open(fname)\n",
    "\n",
    "for line in flines:\n",
    "    words = line.split()\n",
    "    for word in words:\n",
    "        if word not in wlist:\n",
    "            wlist.append(word)\n",
    "wlist.sort()\n",
    "print(wlist)"
   ]
  },
  {
   "attachments": {},
   "cell_type": "markdown",
   "id": "fb257f3b",
   "metadata": {},
   "source": [
    "9.4 Dictionaries\n",
    "\n",
    "+ Write a program to read through the mbox-short.txt and figure out who has sent the greatest number of mail messages. \n",
    "+ The program looks for 'From ' lines and takes the second word of those lines as the person who sent the mail. \n",
    "+ The program creates a Python dictionary that maps the sender's mail address to a count of the number of times they appear in the file. \n",
    "+ After the dictionary is produced, the program reads through the dictionary using a maximum loop to find the most prolific committer."
   ]
  },
  {
   "cell_type": "code",
   "execution_count": 55,
   "id": "5c35321b",
   "metadata": {},
   "outputs": [
    {
     "name": "stdout",
     "output_type": "stream",
     "text": [
      "Enter file:\n",
      "4\n",
      "{'stephen.marquard@uct.ac.za': '4', 'louis@media.berkeley.edu': '3', 'zqian@umich.edu': '4', 'rjlowe@iupui.edu': '4', 'cwen@iupui.edu': '3', 'gsilver@umich.edu': '4', 'wagnermr@iupui.edu': '4', 'antranig@caret.cam.ac.uk': '4', 'gopal.ramasammycook@gmail.com': '4', 'david.horwitz@uct.ac.za': '4', 'ray@media.berkeley.edu': '3'}\n"
     ]
    }
   ],
   "source": [
    "name = input(\"Enter file:\")\n",
    "\n",
    "if len(name) < 1:\n",
    "    name = \"../data/mbox-short.txt\"\n",
    "handle = open(name)\n",
    "\n",
    "mailDict = {}\n",
    "\n",
    "for line in handle:\n",
    "    if line.startswith('From '):\n",
    "        testLine = line.split()\n",
    "        mailDict[testLine[1]] = testLine[4]\n",
    "\n",
    "largest = 0\n",
    "\n",
    "for keys in mailDict:\n",
    "    mailNum = int(mailDict[keys])\n",
    "    if mailNum > largest:\n",
    "        largest = mailNum\n",
    "        print(mailDict[keys])\n",
    "\n",
    "print(mailDict)"
   ]
  },
  {
   "attachments": {},
   "cell_type": "markdown",
   "id": "1e07fc0f",
   "metadata": {},
   "source": [
    "10.2 Tuples\n",
    "\n",
    "+ Write a program to read through the mbox-short.txt and figure out the distribution by hour of the day for each of the messages. \n",
    "+ You can pull the hour out from the 'From ' line by finding the time and then splitting the string a second time using a colon.\n",
    "```\n",
    "From stephen.marquard@uct.ac.za Sat Jan  5 09:14:16 2008\n",
    "```\n",
    "+ Once you have accumulated the counts for each hour, print out the counts, sorted by hour as shown below."
   ]
  },
  {
   "cell_type": "code",
   "execution_count": 60,
   "id": "9911641f",
   "metadata": {},
   "outputs": [
    {
     "name": "stdout",
     "output_type": "stream",
     "text": [
      "Enter file:\n",
      "04 07\n",
      "04 33\n",
      "04 49\n",
      "06 08\n",
      "07 02\n",
      "09 05\n",
      "09 14\n",
      "10 04\n",
      "10 17\n",
      "10 38\n",
      "11 10\n",
      "11 11\n",
      "11 11\n",
      "11 12\n",
      "11 35\n",
      "11 37\n",
      "14 50\n",
      "15 03\n",
      "15 46\n",
      "16 10\n",
      "16 23\n",
      "16 29\n",
      "16 34\n",
      "17 07\n",
      "17 18\n",
      "18 10\n",
      "19 51\n"
     ]
    }
   ],
   "source": [
    "import re\n",
    "\n",
    "pattern = r'\\d{1,2}:\\d{1,2}'\n",
    "timeTuple = []\n",
    "\n",
    "name = input(\"Enter file:\")\n",
    "if len(name) < 1:\n",
    "    name = \"../data/mbox-short.txt\"\n",
    "    \n",
    "handle = open(name)\n",
    "for line in handle:\n",
    "    if line.startswith('From'):\n",
    "        matches = re.findall(pattern, line)\n",
    "        for match in matches:\n",
    "           time1 = match[:2]\n",
    "           time2 = match[3:5]\n",
    "           timeTuple.append((time1, time2))\n",
    "           timeTuple = sorted(timeTuple)\n",
    "           \n",
    "for (x, y) in timeTuple:\n",
    "    print(x, y)"
   ]
  },
  {
   "attachments": {},
   "cell_type": "markdown",
   "id": "4f6f3703",
   "metadata": {},
   "source": [
    "11. Regular Expressions\n",
    "\n",
    "+ In this assignment you will read through and parse a file with text and numbers. \n",
    "+ You will extract all the numbers in the file and compute the sum of the numbers.\n",
    "+ There are 106 values and the sum ends with 973"
   ]
  },
  {
   "cell_type": "code",
   "execution_count": 61,
   "id": "79196e0d",
   "metadata": {},
   "outputs": [
    {
     "name": "stdout",
     "output_type": "stream",
     "text": [
      "There are 106 values with a sum of 508973\n"
     ]
    }
   ],
   "source": [
    "import re\n",
    "list = []\n",
    "# file url : : http://py4e-data.dr-chuck.net/regex_sum_1798206.txt\n",
    "fileHandle = open('regex_sum.txt')\n",
    "for line in fileHandle:\n",
    "    targetString = re.findall('[0-9]+',line)\n",
    "    for num in targetString:\n",
    "        num = int(num)\n",
    "        list.append(num)\n",
    "print(f'There are {len(list)} values with a sum of {sum(list)}')"
   ]
  },
  {
   "attachments": {},
   "cell_type": "markdown",
   "id": "489ddbda",
   "metadata": {},
   "source": [
    "12.1 Networked Applications\n",
    "\n",
    "+ You are to retrieve the following document using the HTTP protocol in a way that you can examine the HTTP Response headers.\n",
    "\n",
    "http://data.pr4e.org/intro-short.txt"
   ]
  },
  {
   "cell_type": "code",
   "execution_count": 62,
   "id": "881246ed",
   "metadata": {},
   "outputs": [
    {
     "name": "stdout",
     "output_type": "stream",
     "text": [
      "[Headers] : [('Date', 'Mon, 29 May 2023 21:41:43 GMT'), ('Server', 'Apache/2.4.18 (Ubuntu)'), ('Last-Modified', 'Sat, 13 May 2017 11:22:22 GMT'), ('ETag', '\"1d3-54f6609240717\"'), ('Accept-Ranges', 'bytes'), ('Content-Length', '467'), ('Cache-Control', 'max-age=0, no-cache, no-store, must-revalidate'), ('Pragma', 'no-cache'), ('Expires', 'Wed, 11 Jan 1984 05:00:00 GMT'), ('Connection', 'close'), ('Content-Type', 'text/plain')]\n",
      "\n",
      "========== Reading File ==========\n",
      "Why should you learn to write programs?\n",
      "\n",
      "Writing programs (or programming) is a very creative\n",
      "and rewarding activity.  You can write programs for\n",
      "many reasons, ranging from making your living to solving\n",
      "a difficult data analysis problem to having fun to helping\n",
      "someone else solve a problem.  This book assumes that\n",
      "everyone needs to know how to program, and that once\n",
      "you know how to program you will figure out what you want\n",
      "to do with your newfound skills.\n",
      "========== Done Reading File ==========\n"
     ]
    }
   ],
   "source": [
    "import urllib.request, urllib.parse, urllib.error\n",
    "\n",
    "f_handle = urllib.request.urlopen('http://data.pr4e.org/intro-short.txt')\n",
    "\n",
    "f_headers = f_handle.getheaders()\n",
    "\n",
    "print(f'[Headers] : {f_headers}')\n",
    " \n",
    "def read_fhandle(f_handle):\n",
    "    print('\\n========== Reading File ==========')\n",
    "    for line in f_handle:\n",
    "        print(line.decode().strip())\n",
    "    print('========== Done Reading File ==========')\n",
    "    \n",
    "read_fhandle(f_handle)"
   ]
  },
  {
   "attachments": {},
   "cell_type": "markdown",
   "id": "33f69ac0",
   "metadata": {},
   "source": [
    "12.2 Scraping Numbers from HTML using BeautifulSoup \n",
    "\n",
    "+ The program will use urllib to read the HTML from the data files below, and parse the data, extracting numbers and compute the sum of the numbers in the file.\n",
    "\n",
    "+ We provide two files for this assignment. One is a sample file where we give you the sum for your testing and the other is the actual data you need to process for the assignment."
   ]
  },
  {
   "cell_type": "code",
   "execution_count": 63,
   "id": "d3701d17",
   "metadata": {},
   "outputs": [
    {
     "name": "stdout",
     "output_type": "stream",
     "text": [
      "Sum = 2502\n"
     ]
    }
   ],
   "source": [
    "# Sample data = http://py4e-data.dr-chuck.net/comments_42.html (Sum=2553)\n",
    "# Actual data = http://py4e-data.dr-chuck.net/comments_1798208.html (Sum ends with 2)\n",
    "        \n",
    "import urllib.request, urllib.parse, urllib.error\n",
    "from bs4 import BeautifulSoup\n",
    "import ssl\n",
    "\n",
    "# handles SSL certificate errors\n",
    "ctx = ssl.create_default_context()\n",
    "ctx.check_hostname = False\n",
    "ctx.verify_mode = ssl.CERT_NONE\n",
    "\n",
    "url = 'http://py4e-data.dr-chuck.net/comments_1798208.html'\n",
    "\n",
    "# run loop on the response of urlopen if content is sizeable\n",
    "html = urllib.request.urlopen(url, context=ctx).read()\n",
    "soup = BeautifulSoup(html,'html.parser')\n",
    "\n",
    "# tags = soup('td')\n",
    "\n",
    "tags = soup.find_all(class_='comments')\n",
    "\n",
    "tags_sum = []\n",
    "\n",
    "for tag in tags:\n",
    "    comment_num = int(tag.text)\n",
    "    tags_sum.append(comment_num)\n",
    "\n",
    "print(f'Sum = {sum(tags_sum)}')"
   ]
  },
  {
   "attachments": {},
   "cell_type": "markdown",
   "id": "b3f5f15d",
   "metadata": {},
   "source": [
    "12.3 Following Links in Python\n",
    "\n",
    "+ The program will use urllib to read the HTML from the data files below.\n",
    "\n",
    "+ Extract the href= vaues from the anchor tags, \n",
    "\n",
    "+ scan for a tag that is in a particular position relative to the first name in the list\n",
    "\n",
    "+ follow that link and repeat the process a number of times and report the last name you find.\n",
    "\n",
    "+ We provide two files for this assignment. One is a sample file where we give you the name for your testing and the other is the actual data you need to process for the assignment\n",
    "\n",
    "+ Sample problem: Start at http://py4e-data.dr-chuck.net/known_by_Fikret.html\n",
    "+ Sequence of names: Fikret Montgomery Mhairade Butchi Anayah\n",
    "    Last name in sequence: Anayah\n",
    "+ Actual problem: Start at: http://py4e-data.dr-chuck.net/known_by_Zoha.html"
   ]
  },
  {
   "cell_type": "code",
   "execution_count": 16,
   "id": "770b6ed1",
   "metadata": {},
   "outputs": [
    {
     "name": "stdout",
     "output_type": "stream",
     "text": [
      "Fezaan\n"
     ]
    }
   ],
   "source": [
    "# sample: http://py4e-data.dr-chuck.net/known_by_Fikret.html\n",
    "# Find the link at position 3 (the first name is 1).\n",
    "# Follow that link. Repeat this process 4 times. \n",
    "# The answer is the last name that you retrieve.\n",
    "\n",
    "# Find the link at position 18 (the first name is 1). \n",
    "# Follow that link. Repeat this process 7 times. \n",
    "# The answer is the last name that you retrieve.\n",
    "\n",
    "\n",
    "import urllib.request, urllib.parse, urllib.error\n",
    "from bs4 import BeautifulSoup\n",
    "import ssl\n",
    "\n",
    "# handle SSL certificate errors\n",
    "ctx = ssl.create_default_context()\n",
    "ctx.check_hostname = False\n",
    "ctx.verify_mode = ssl.CERT_NONE\n",
    "\n",
    "\n",
    "# url = 'http://py4e-data.dr-chuck.net/known_by_Fikret.html'\n",
    "url = 'http://py4e-data.dr-chuck.net/known_by_Zoha.html'\n",
    "\n",
    "# count = int(input('Enter count : '))\n",
    "# line = int(input('Enter position'))\n",
    "\n",
    "repeat = 4\n",
    "position = 3\n",
    "\n",
    "for i in range(repeat):\n",
    "    html = urllib.request.urlopen(url, context=ctx).read()\n",
    "    soup = BeautifulSoup(html, 'html.parser')\n",
    "    tags = soup('a')\n",
    "    count = 0\n",
    "    for tag in tags:\n",
    "        count = count + 1\n",
    "\n",
    "        if count > position:\n",
    "            break\n",
    "        url = tag.get('href', None)\n",
    "        name = tag.contents[0]\n",
    "\n",
    "print(name)"
   ]
  },
  {
   "attachments": {},
   "cell_type": "markdown",
   "id": "a3f99cc2",
   "metadata": {},
   "source": [
    "Extracting Data from XML\n",
    "\n",
    "+ The program will prompt for a URL. \n",
    "+ Read the XML data from that URL using urllib.\n",
    "+ Parse and extract the comment counts from the XML data, compute the sum of the numbers in the file."
   ]
  },
  {
   "cell_type": "code",
   "execution_count": 64,
   "id": "1d97c411",
   "metadata": {},
   "outputs": [
    {
     "name": "stdout",
     "output_type": "stream",
     "text": [
      "Sum = 2069\n"
     ]
    }
   ],
   "source": [
    "# Sample data: http://py4e-data.dr-chuck.net/comments_42.xml (Sum=2553)\n",
    "# Actual data: http://py4e-data.dr-chuck.net/comments_1798210.xml (Sum ends with 69)\n",
    "\n",
    "import urllib.request, urllib.parse, urllib.error\n",
    "import xml.etree.ElementTree as ET\n",
    "import ssl\n",
    "\n",
    "ctx = ssl.create_default_context()\n",
    "ctx.check_hostname = False\n",
    "ctx.verify_mode = ssl.CERT_NONE\n",
    "\n",
    "url = 'http://py4e-data.dr-chuck.net/comments_1798210.xml'\n",
    "\n",
    "xml = urllib.request.urlopen(url, context=ctx).read()\n",
    "\n",
    "tree = ET.fromstring(xml)\n",
    "\n",
    "comments = tree.findall('comments/comment')\n",
    "comment_list = []\n",
    "\n",
    "\n",
    "for comment in comments:\n",
    "    count = comment.find('count').text\n",
    "    comment_list.append(int(count))\n",
    "    \n",
    "print(f'Sum = {sum(comment_list)}')"
   ]
  },
  {
   "attachments": {},
   "cell_type": "markdown",
   "id": "972d9238",
   "metadata": {},
   "source": [
    "Extracting Data from JSON\n",
    "\n",
    "+ The program will prompt for a URL\n",
    "+ Read the JSON data from that URL using urllib and then parse and extract the comment counts from the JSON data\n",
    "+ Compute the sum of the numbers in the file and enter the sum below:"
   ]
  },
  {
   "cell_type": "code",
   "execution_count": 65,
   "id": "02552fde",
   "metadata": {},
   "outputs": [
    {
     "name": "stdout",
     "output_type": "stream",
     "text": [
      "Sum = 2121\n"
     ]
    }
   ],
   "source": [
    "# Sample data: http://py4e-data.dr-chuck.net/comments_42.json (Sum=2553)\n",
    "# Actual data: http://py4e-data.dr-chuck.net/comments_1798211.json (Sum ends with 21)\n",
    "\n",
    "import urllib.request, urllib.parse, urllib.error\n",
    "import json\n",
    "import ssl\n",
    "\n",
    "ctx = ssl.create_default_context()\n",
    "ctx.check_hostname = False\n",
    "ctx.verify_mode = ssl.CERT_NONE\n",
    "\n",
    "url = 'http://py4e-data.dr-chuck.net/comments_1798211.json'\n",
    "\n",
    "json_data = urllib.request.urlopen(url, context=ctx).read()\n",
    "\n",
    "data = json.loads(json_data)\n",
    "\n",
    "comment_list = []\n",
    "\n",
    "\n",
    "for comment in data['comments']:\n",
    "    count = comment['count']\n",
    "    comment_list.append(int(count))\n",
    "    \n",
    "print(f'Sum = {sum(comment_list)}')\n"
   ]
  },
  {
   "attachments": {},
   "cell_type": "markdown",
   "id": "4dc0e3fb",
   "metadata": {},
   "source": [
    "Databases\n",
    "\n",
    "+ Using SQLITE browser create a database called 'Ages' that has ```name``` and ```age``` columns\n",
    "\n",
    "```\n",
    "CREATE TABLE Ages ( \n",
    "  name VARCHAR(128), \n",
    "  age INTEGER\n",
    ")\n",
    "```\n",
    "\n",
    "+ Make sure table is empty and insert the rows below.\n",
    "```\n",
    "DELETE FROM Ages;\n",
    "INSERT INTO Ages (name, age) VALUES ('Fendi', 13);\n",
    "INSERT INTO Ages (name, age) VALUES ('Levi', 24);\n",
    "INSERT INTO Ages (name, age) VALUES ('Joojo', 22);\n",
    "INSERT INTO Ages (name, age) VALUES ('Cassieleigh', 35);\n",
    "INSERT INTO Ages (name, age) VALUES ('Remigiusz', 40);\n",
    "```\n",
    "\n",
    "+ Get list of concatenated names and ages in the hexadecimal representation\n",
    "\n",
    "```\n",
    "SELECT hex(name || age) AS X FROM Ages ORDER BY X\n",
    "```\n",
    "\n",
    "Answer = 4361737369656C656967683335\n",
    "\n",
    "| Hex |\n",
    "|---|\n",
    "| 4361737369656C656967683335 |\n",
    "| 46656E64693133 |\n",
    "| 4A6F6F6A6F3232 |\n",
    "| 4C6576693234 | \n",
    "| 52656D69676975737A3430 |\n"
   ]
  },
  {
   "attachments": {},
   "cell_type": "markdown",
   "id": "eda417f8",
   "metadata": {},
   "source": [
    "Counting Organisations\n",
    "+ Read mailbox data from a file (mbox.txt) and count the number of email messages per organization(domain name of email address)\n",
    "\n",
    "+ Create a database table ```Counts``` that contains a column for the organisation and a column for the frequency.\n",
    "\n",
    "+ Call the top 10 organisations from the database"
   ]
  },
  {
   "cell_type": "code",
   "execution_count": 18,
   "id": "06579d26",
   "metadata": {},
   "outputs": [
    {
     "name": "stdout",
     "output_type": "stream",
     "text": [
      "iupui.edu 536\n",
      "umich.edu 491\n",
      "indiana.edu 178\n",
      "caret.cam.ac.uk 157\n",
      "vt.edu 110\n",
      "uct.ac.za 96\n",
      "media.berkeley.edu 56\n",
      "ufp.pt 28\n",
      "gmail.com 25\n",
      "et.gatech.edu 17\n",
      "txstate.edu 17\n",
      "whitman.edu 17\n",
      "lancaster.ac.uk 14\n",
      "bu.edu 14\n",
      "stanford.edu 12\n",
      "unicon.net 9\n",
      "loi.nl 9\n",
      "rsmart.com 8\n",
      "ucdavis.edu 1\n",
      "fhda.edu 1\n",
      "utoronto.ca 1\n"
     ]
    }
   ],
   "source": [
    "import sqlite3\n",
    "import re\n",
    "\n",
    "db_connection = sqlite3.connect('emaildb.sqlite')\n",
    "db_cursor = db_connection.cursor()\n",
    "\n",
    "db_cursor.execute(\n",
    "    '''\n",
    "    DROP TABLE IF EXISTS Counts\n",
    "    '''\n",
    ")\n",
    "\n",
    "db_cursor.execute(\n",
    "    '''\n",
    "    CREATE TABLE Counts (org TEXT, count INTEGER)\n",
    "    '''\n",
    ")\n",
    "\n",
    "file_name = '../data/mbox.txt'\n",
    "file_handle = open(file_name)\n",
    "\n",
    "target_pattern = r\"(?<=@)[^.]+(?:\\.[^.]+)+(?=$|\\s)\"\n",
    "\n",
    "mail_dict = dict()\n",
    "\n",
    "for line in file_handle:\n",
    "    if not line.startswith('From: '): \n",
    "        continue\n",
    "    word_array = line.split()\n",
    "    email = word_array[1]\n",
    "    match = re.findall(target_pattern, email)\n",
    "    match = match[0]\n",
    "    mail_dict[match] = mail_dict.get(match, 0) + 1\n",
    "\n",
    "for org, count in mail_dict.items():\n",
    "    db_cursor.execute(\n",
    "    '''\n",
    "    INSERT INTO Counts (org, count) VALUES (?,?)\n",
    "    ''', (org, count))\n",
    "\n",
    "db_connection.commit()\n",
    "\n",
    "topTenOrgs = 'SELECT org, count FROM Counts ORDER BY count DESC'\n",
    "\n",
    "for row in db_cursor.execute(topTenOrgs):\n",
    "    print(str(row[0]), row[1])\n",
    "    \n",
    "db_connection.close()"
   ]
  },
  {
   "attachments": {},
   "cell_type": "markdown",
   "id": "3a63ba35",
   "metadata": {},
   "source": [
    "Multi-Table Database - Tracks\n",
    "\n",
    "This application will read an iTunes export file in XML and produce a properly normalized database."
   ]
  },
  {
   "cell_type": "code",
   "execution_count": 87,
   "id": "70bbc392",
   "metadata": {},
   "outputs": [
    {
     "name": "stdout",
     "output_type": "stream",
     "text": [
      "Dict count: 404\n"
     ]
    }
   ],
   "source": [
    "import xml.etree.ElementTree as ET\n",
    "import sqlite3\n",
    "import os\n",
    "\n",
    "db_connection = sqlite3.connect('trackdb.sqlite')\n",
    "db_cursor = db_connection.cursor()\n",
    "\n",
    "db_cursor.executescript('''\n",
    "DROP TABLE IF EXISTS Artist;\n",
    "DROP TABLE IF EXISTS Genre;\n",
    "DROP TABLE IF EXISTS Album;\n",
    "DROP TABLE IF EXISTS Track;\n",
    "\n",
    "CREATE TABLE Artist (\n",
    "    id  INTEGER NOT NULL PRIMARY KEY AUTOINCREMENT UNIQUE,\n",
    "    name    TEXT UNIQUE\n",
    ");\n",
    "\n",
    "CREATE TABLE Album (\n",
    "    id  INTEGER NOT NULL PRIMARY KEY AUTOINCREMENT UNIQUE,\n",
    "    artist_id  INTEGER,\n",
    "    title   TEXT UNIQUE\n",
    ");\n",
    "\n",
    "CREATE TABLE Genre (\n",
    "    id  INTEGER NOT NULL PRIMARY KEY AUTOINCREMENT UNIQUE,\n",
    "    name    TEXT UNIQUE\n",
    ");\n",
    "\n",
    "CREATE TABLE Track (\n",
    "    id  INTEGER NOT NULL PRIMARY KEY \n",
    "        AUTOINCREMENT UNIQUE,\n",
    "    title TEXT  UNIQUE,\n",
    "    genre_id  INTEGER,\n",
    "    album_id  INTEGER,\n",
    "    len INTEGER, rating INTEGER, count INTEGER\n",
    ");\n",
    "''')\n",
    "\n",
    "\n",
    "# file_name = input('Enter file name: ')\n",
    "# if ( len(file_name) < 1 ) : file_name = '../data/Library.xml'\n",
    "\n",
    "file_name = '../data/Library.xml'\n",
    "\n",
    "# if not os.path.exists(file_name):\n",
    "#     raise FileNotFoundError(f\"File '{file_name}' does not exist\")\n",
    "\n",
    "file_handle = open(file_name)\n",
    "xml_tree = ET.parse(file_handle)\n",
    "\n",
    "all = xml_tree.findall('dict/dict/dict')\n",
    "print('Dict count:', len(all))\n",
    "\n",
    "\n",
    "for entry in all:\n",
    "    if ( lookup(entry, 'Track ID') is None ) : continue\n",
    "\n",
    "    name = lookup(entry, 'Name')\n",
    "    artist = lookup(entry, 'Artist')\n",
    "    genre = lookup(entry, 'Genre')\n",
    "    album = lookup(entry, 'Album')\n",
    "    count = lookup(entry, 'Play Count')\n",
    "    rating = lookup(entry, 'Rating')\n",
    "    length = lookup(entry, 'Total Time')\n",
    "\n",
    "    if name is None or genre is None or artist is None or album is None : \n",
    "        continue\n",
    "\n",
    "#     print(name, artist, genre, album, count, rating, length)\n",
    "\n",
    "    db_cursor.execute('''INSERT OR IGNORE INTO Artist (name) \n",
    "        VALUES ( ? )''', ( artist, ) )\n",
    "    db_cursor.execute('SELECT id FROM Artist WHERE name = ? ', (artist, ))\n",
    "    artist_id = db_cursor.fetchone()[0]\n",
    "    \n",
    "    db_cursor.execute('''INSERT OR IGNORE INTO Genre (name) \n",
    "        VALUES ( ? )''', ( genre, ) )\n",
    "    db_cursor.execute('SELECT id FROM Genre WHERE name = ? ', (genre, ))\n",
    "    genre_id = db_cursor.fetchone()[0]\n",
    "\n",
    "    db_cursor.execute('''INSERT OR IGNORE INTO Album (title, artist_id) \n",
    "        VALUES ( ?, ? )''', ( album, artist_id ) )\n",
    "    db_cursor.execute('SELECT id FROM Album WHERE title = ? ', (album, ))\n",
    "    album_id = db_cursor.fetchone()[0]\n",
    "\n",
    "    db_cursor.execute('''INSERT OR REPLACE INTO Track\n",
    "        (title, album_id, genre_id, len, rating, count) \n",
    "        VALUES ( ?, ?, ?, ?, ?, ? )''', \n",
    "        ( name, genre_id, album_id, length, rating, count ) )\n",
    "\n",
    "    db_connection.commit()"
   ]
  }
 ],
 "metadata": {
  "celltoolbar": "Raw Cell Format",
  "kernelspec": {
   "display_name": "Python 3 (ipykernel)",
   "language": "python",
   "name": "python3"
  },
  "language_info": {
   "codemirror_mode": {
    "name": "ipython",
    "version": 3
   },
   "file_extension": ".py",
   "mimetype": "text/x-python",
   "name": "python",
   "nbconvert_exporter": "python",
   "pygments_lexer": "ipython3",
   "version": "3.10.9"
  }
 },
 "nbformat": 4,
 "nbformat_minor": 5
}
